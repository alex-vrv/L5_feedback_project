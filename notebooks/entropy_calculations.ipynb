{
 "cells": [
  {
   "cell_type": "code",
   "execution_count": 1,
   "metadata": {},
   "outputs": [],
   "source": [
    "import pandas as pd \n",
    "import os\n",
    "import numpy as np\n",
    "import matplotlib.pyplot as plt\n",
    "from matplotlib import patches\n",
    "import re\n",
    "from sklearn import datasets, linear_model\n",
    "import seaborn as sns\n",
    "from matplotlib import cm\n",
    "from scipy.stats import wilcoxon,sem\n",
    "\n",
    "from entropy_estimators import continuous"
   ]
  },
  {
   "cell_type": "code",
   "execution_count": 2,
   "metadata": {},
   "outputs": [],
   "source": [
    "def get_normalized_mean_amplitude_hwhm_per_epoch(peak_hwhm_csv_list):\n",
    "    cum_peak_hwhm_dataframe_output = pd.DataFrame (columns = ['epoch','hwhm','amplitude','population'])    \n",
    "    \n",
    "    for file in peak_hwhm_csv_list:\n",
    "        test_df = pd.read_csv(file)\n",
    "        epochs = test_df['epoch'].drop_duplicates()\n",
    "        epochs = epochs.to_list()\n",
    "\n",
    "        populations = ['L2/3']\n",
    "        populations_multiindex = np.repeat(populations,len(epochs))\n",
    "\n",
    "        epochs_multiindex = np.tile(epochs,1)\n",
    "\n",
    "        multiindex_plot = pd.MultiIndex.from_arrays([populations_multiindex,epochs_multiindex],names=('population', 'epoch') )\n",
    "\n",
    "        for i,measure in enumerate(['amplitude','hwhm']):\n",
    "\n",
    "            mean_s = test_df.set_index('epoch').groupby(['population', 'epoch'])[measure].mean()\n",
    "            mean_s = mean_s.reindex(multiindex_plot)\n",
    "            \n",
    "            mean_df = mean_s.to_frame()\n",
    "            mean_df = mean_df.reset_index()\n",
    "\n",
    "            if measure == 'amplitude': \n",
    "                mean_amplitude_df = mean_df\n",
    "            if measure == 'hwhm': \n",
    "                mean_hwhm_df = mean_df\n",
    "\n",
    "        mean_hwhm_df = mean_hwhm_df.loc[mean_hwhm_df['population']=='L2/3']\n",
    "        mean_amplitude_df = mean_amplitude_df.loc[mean_amplitude_df['population']=='L2/3']\n",
    "        \n",
    "        #Normalize to 'Only L4'\n",
    "        mean_hwhm_L4input = mean_hwhm_df.hwhm.loc[mean_hwhm_df['epoch']=='Only L4 input'].values\n",
    "        mean_hwhm_df.hwhm = mean_hwhm_df.hwhm/mean_hwhm_L4input\n",
    "        mean_amplitude_L4input = mean_amplitude_df.amplitude.loc[mean_amplitude_df['epoch']=='Only L4 input'].values\n",
    "        mean_amplitude_df.amplitude = mean_amplitude_df.amplitude/mean_amplitude_L4input\n",
    "        \n",
    "        mean_hwhm_df['amplitude'] = mean_amplitude_df['amplitude']\n",
    "        cum_peak_hwhm_dataframe_temp = mean_hwhm_df \n",
    "        \n",
    "        cum_peak_hwhm_dataframe_output = cum_peak_hwhm_dataframe_output.append(cum_peak_hwhm_dataframe_temp)    \n",
    "    \n",
    "    \n",
    "    return cum_peak_hwhm_dataframe_output\n",
    "\n"
   ]
  },
  {
   "cell_type": "code",
   "execution_count": 3,
   "metadata": {},
   "outputs": [],
   "source": [
    "parent_folder = '/Users/alexvourvoukelis/Desktop/DTP_rotation_2/Code/L5/simulations'\n",
    "\n",
    "simulation_dirs = []\n",
    "peak_hwhm_files = []\n",
    "for root, directories, files in os.walk(parent_folder, topdown=False):\n",
    "    for name in files:\n",
    "        if 'population_peaks' in name:\n",
    "            peak_hwhm_files.append(os.path.join(root, name))\n",
    "    for name in directories:\n",
    "        if 'temporaloffset' in name:\n",
    "            simulation_dirs.append(os.path.join(root, name))\n",
    "            "
   ]
  },
  {
   "cell_type": "code",
   "execution_count": 4,
   "metadata": {},
   "outputs": [],
   "source": [
    "peak_hwhm_files_homogeneous_synch = []\n",
    "\n",
    "for file in peak_hwhm_files:\n",
    "    if 'homogeneous' in file:\n",
    "        if '200ms' in file:\n",
    "            if 'synchronous' in file:\n",
    "                if 'asynchronous' not in file:\n",
    "                    if 'test' in file:\n",
    "                        peak_hwhm_files_homogeneous_synch.append(file)\n",
    "peak_hwhm_files_homogeneous_synch.sort()\n",
    "\n",
    "peak_hwhm_files_homogeneous_asynch = []\n",
    "\n",
    "for file in peak_hwhm_files:\n",
    "    if 'homogeneous' in file:\n",
    "        if '200ms' in file:\n",
    "            if 'asynchronous' in file:\n",
    "                if 'test' in file:\n",
    "                    peak_hwhm_files_homogeneous_asynch.append(file)\n",
    "peak_hwhm_files_homogeneous_asynch.sort()\n",
    "\n",
    "peak_hwhm_files_discrete_synch = []\n",
    "for file in peak_hwhm_files:\n",
    "    if 'discrete' in file:\n",
    "        if '200ms' in file:\n",
    "            if 'synchronous' in file:\n",
    "                if 'asynchronous' not in file:\n",
    "                    if 'test' in file:\n",
    "                        peak_hwhm_files_discrete_synch.append(file)\n",
    "peak_hwhm_files_discrete_synch.sort()\n",
    "\n",
    "peak_hwhm_files_discrete_asynch = []\n",
    "for file in peak_hwhm_files:\n",
    "    if 'discrete' in file:\n",
    "        if '200ms' in file:\n",
    "            if 'asynchronous' in file:\n",
    "                if 'test' in file:\n",
    "                    peak_hwhm_files_discrete_asynch.append(file)\n",
    "peak_hwhm_files_discrete_asynch.sort()\n",
    "\n",
    "peak_hwhm_files_discrete_synch_varstr = []\n",
    "for file in peak_hwhm_files:\n",
    "    if 'discrete' in file:\n",
    "        if '200ms' in file:\n",
    "            if 'synchronous' in file:\n",
    "                if 'varyingstrength' in file:\n",
    "                    if 'asynchronous' not in file:\n",
    "                        peak_hwhm_files_discrete_synch_varstr.append(file)\n",
    "peak_hwhm_files_discrete_synch_varstr.sort()\n",
    "\n",
    "peak_hwhm_files_discrete_asynch_varstr = []\n",
    "for file in peak_hwhm_files:\n",
    "    if 'discrete' in file:\n",
    "        if '200ms' in file:\n",
    "            if 'asynchronous' in file:\n",
    "                if 'varyingstrength' in file:\n",
    "                    peak_hwhm_files_discrete_asynch_varstr.append(file)\n",
    "peak_hwhm_files_discrete_asynch_varstr.sort()\n"
   ]
  },
  {
   "cell_type": "code",
   "execution_count": 5,
   "metadata": {},
   "outputs": [],
   "source": [
    "iter_values = []\n",
    "for file in peak_hwhm_files_discrete_asynch:\n",
    "    match = re.search('iter\\d', file)\n",
    "    if match and match.group() not in iter_values:\n",
    "        iter_values.append(match.group())"
   ]
  },
  {
   "cell_type": "code",
   "execution_count": 7,
   "metadata": {},
   "outputs": [],
   "source": [
    "all_files = {'homogeneous_synchronous': peak_hwhm_files_homogeneous_synch,\n",
    "             'homogeneous_asynchronous': peak_hwhm_files_homogeneous_asynch,\n",
    "             'discrete_synchronous': peak_hwhm_files_discrete_synch,\n",
    "             'discrete_asynchronous': peak_hwhm_files_discrete_asynch}\n",
    "#              'discrete_synchronous_varyingstrength': peak_hwhm_files_discrete_synch_varstr,\n",
    "#              'discrete_asynchronous_varyingstrength': peak_hwhm_files_discrete_asynch_varstr}"
   ]
  },
  {
   "cell_type": "markdown",
   "metadata": {},
   "source": [
    "### Separate by simulation"
   ]
  },
  {
   "cell_type": "code",
   "execution_count": 8,
   "metadata": {},
   "outputs": [],
   "source": [
    "all_files_separated = dict()\n",
    "\n",
    "for simulation_label in all_files:\n",
    "    iter_values = []\n",
    "    for file in all_files[simulation_label]:\n",
    "        iter_substring = re.search('iter\\d', file)\n",
    "        if iter_substring and iter_substring.group() not in iter_values:\n",
    "            iter_values.append(iter_substring.group())\n",
    "            \n",
    "    all_files_separated[simulation_label] = dict() \n",
    "\n",
    "    for iter_label in iter_values:\n",
    "        all_files_separated[simulation_label][iter_label] = [file for file in all_files[simulation_label] if iter_label in file] \n",
    "        "
   ]
  },
  {
   "cell_type": "markdown",
   "metadata": {},
   "source": [
    "### Unpack and normalize data in both data storage formats"
   ]
  },
  {
   "cell_type": "code",
   "execution_count": 9,
   "metadata": {},
   "outputs": [],
   "source": [
    "all_data_pooled = dict()\n",
    "for label in all_files:\n",
    "    all_data_pooled[label] = get_normalized_mean_amplitude_hwhm_per_epoch(all_files[label])\n",
    "    all_data_pooled[label] = all_data_pooled[label].dropna()\n",
    "    all_data_pooled[label] = all_data_pooled[label].reset_index()\n"
   ]
  },
  {
   "cell_type": "code",
   "execution_count": 10,
   "metadata": {},
   "outputs": [],
   "source": [
    "# print(len(all_data_separated['homogeneous_asynchronous']['iter0']))# - len(all_data_separated['homogeneous_asynchronous']['iter0']))"
   ]
  },
  {
   "cell_type": "code",
   "execution_count": 11,
   "metadata": {},
   "outputs": [],
   "source": [
    "all_data_separated = dict()\n",
    "for label in all_files_separated:\n",
    "    all_data_separated[label] = dict()\n",
    "    for iter_label in all_files_separated[label]:\n",
    "        all_data_separated[label][iter_label] =  get_normalized_mean_amplitude_hwhm_per_epoch(all_files_separated[label][iter_label])\n",
    "        all_data_separated[label][iter_label] = all_data_separated[label][iter_label].dropna()\n",
    "        all_data_separated[label][iter_label] = all_data_separated[label][iter_label].reset_index()"
   ]
  },
  {
   "cell_type": "code",
   "execution_count": 12,
   "metadata": {},
   "outputs": [],
   "source": [
    "pd.set_option('display.max_rows', None)\n",
    "\n",
    "# all_data_pooled['discrete_asynchronous_varyingstrength'][['hwhm','amplitude']].max()"
   ]
  },
  {
   "cell_type": "markdown",
   "metadata": {},
   "source": [
    "### Subsample and calculate entropy"
   ]
  },
  {
   "cell_type": "code",
   "execution_count": 13,
   "metadata": {},
   "outputs": [
    {
     "data": {
      "text/plain": [
       "[211, 211, 211, 211, 211, 210, 211, 211, 211]"
      ]
     },
     "execution_count": 13,
     "metadata": {},
     "output_type": "execute_result"
    }
   ],
   "source": [
    "len_hom_asynch = []\n",
    "for simulation in all_data_separated['homogeneous_asynchronous']:\n",
    "    len_hom_asynch.append(len(all_data_separated['homogeneous_asynchronous'][simulation].drop_duplicates(subset=['hwhm','amplitude'])))\n",
    "len_hom_asynch  "
   ]
  },
  {
   "cell_type": "code",
   "execution_count": 14,
   "metadata": {},
   "outputs": [
    {
     "data": {
      "text/plain": [
       "[-0.6871639668632952,\n",
       " -0.611764501894005,\n",
       " -0.7201924249174874,\n",
       " -0.6662943742322427,\n",
       " -0.707640031612907,\n",
       " -0.6929361757724135,\n",
       " -0.693528096358488,\n",
       " -0.707622830888726,\n",
       " -0.49249685753293315]"
      ]
     },
     "execution_count": 14,
     "metadata": {},
     "output_type": "execute_result"
    }
   ],
   "source": [
    "average_entropy_per_sim_hom = []\n",
    "\n",
    "for simulation in all_data_separated['homogeneous_asynchronous']:\n",
    "    temp_simulation_samples_hwhm_ampl = all_data_separated['homogeneous_asynchronous'][simulation].drop_duplicates(subset=['hwhm','amplitude'])\n",
    "    temp_simulation_samples_hwhm_ampl = temp_simulation_samples_hwhm_ampl[['hwhm','amplitude']]\n",
    "    temp_simulation_samples_hwhm_ampl = temp_simulation_samples_hwhm_ampl.loc[(temp_simulation_samples_hwhm_ampl.hwhm!=1) & (temp_simulation_samples_hwhm_ampl.amplitude!=1)]\n",
    "\n",
    "    entropy_temp = continuous.get_h(temp_simulation_samples_hwhm_ampl.to_numpy(),k=15)\n",
    "    average_entropy_per_sim_hom.append(entropy_temp)\n",
    "\n",
    "        \n",
    "average_entropy_per_sim_hom\n"
   ]
  },
  {
   "cell_type": "code",
   "execution_count": 15,
   "metadata": {},
   "outputs": [
    {
     "data": {
      "text/plain": [
       "[0.07431729264453278,\n",
       " 0.010939303507166969,\n",
       " -0.06135467276573138,\n",
       " -0.06828605045075245,\n",
       " -0.0334901816237269,\n",
       " -0.01201457035840349,\n",
       " -0.011354402596796636,\n",
       " 0.48799809164069763,\n",
       " 0.3478114355970864]"
      ]
     },
     "execution_count": 15,
     "metadata": {},
     "output_type": "execute_result"
    }
   ],
   "source": [
    "average_entropy_per_sim_dis = []\n",
    "\n",
    "for simulation in all_data_separated['discrete_asynchronous']:\n",
    "    temp_simulation_samples_hwhm_ampl = all_data_separated['discrete_asynchronous'][simulation].drop_duplicates(subset=['hwhm','amplitude'])\n",
    "    temp_simulation_samples_hwhm_ampl = temp_simulation_samples_hwhm_ampl[['hwhm','amplitude']]\n",
    "    temp_simulation_samples_hwhm_ampl = temp_simulation_samples_hwhm_ampl.loc[(temp_simulation_samples_hwhm_ampl.hwhm!=1) & (temp_simulation_samples_hwhm_ampl.amplitude!=1)]\n",
    "\n",
    "    \n",
    "    temp_entropy_all = []\n",
    "    for i in np.arange(0,100,1):\n",
    "        subsample_idx_temp = np.random.randint(len(temp_simulation_samples_hwhm_ampl),size=211)\n",
    "        subsample_temp = temp_simulation_samples_hwhm_ampl.to_numpy()\n",
    "        subsample_temp = subsample_temp[subsample_idx_temp]\n",
    "        entropy_temp = continuous.get_h(subsample_temp,k=15)\n",
    "        temp_entropy_all.append(entropy_temp)\n",
    "    average_entropy_per_sim_dis.append(np.mean(temp_entropy_all))\n",
    "\n",
    "        \n",
    "average_entropy_per_sim_dis\n"
   ]
  },
  {
   "cell_type": "code",
   "execution_count": 16,
   "metadata": {},
   "outputs": [
    {
     "name": "stdout",
     "output_type": "stream",
     "text": [
      "BOTH HWHM AND AMPLITUDE\n",
      "\n",
      "Mean hom:-0.6644043622302775 sem: 0.02396653922312543\n",
      "Mean dis:0.08161847173267477 sem: 0.06610447658329253\n",
      "Entropy diff:0.7460228339629524\n"
     ]
    },
    {
     "data": {
      "text/plain": [
       "WilcoxonResult(statistic=0.0, pvalue=0.00390625)"
      ]
     },
     "execution_count": 16,
     "metadata": {},
     "output_type": "execute_result"
    }
   ],
   "source": [
    "print('BOTH HWHM AND AMPLITUDE\\n')\n",
    "print(''.join(('Mean hom:',str(np.mean(average_entropy_per_sim_hom)),' sem: ' ,str(sem(average_entropy_per_sim_hom)))))\n",
    "print(''.join(('Mean dis:',str(np.mean(average_entropy_per_sim_dis)),' sem: ' ,str(sem(average_entropy_per_sim_dis)))))\n",
    "print(''.join(('Entropy diff:',str(np.mean(average_entropy_per_sim_dis-np.mean(average_entropy_per_sim_hom))))))\n",
    "\n",
    "\n",
    "\n",
    "wilcoxon(average_entropy_per_sim_hom,average_entropy_per_sim_dis)"
   ]
  },
  {
   "cell_type": "code",
   "execution_count": 17,
   "metadata": {
    "scrolled": true
   },
   "outputs": [
    {
     "data": {
      "image/png": "[encoded data removed]",
      "text/plain": [
       "<Figure size 1440x720 with 1 Axes>"
      ]
     },
     "metadata": {
      "needs_background": "light"
     },
     "output_type": "display_data"
    }
   ],
   "source": [
    "entropy_per_simulation_type = pd.DataFrame({'entropy':np.concatenate((average_entropy_per_sim_hom,average_entropy_per_sim_dis)),\n",
    "                                            'simulation_type':np.concatenate((np.repeat('homogeneous',9),np.repeat('discrete',9)))\n",
    "                                           } )\n",
    "\n",
    "fig = plt.figure(figsize = (20,10))\n",
    "\n",
    "ax = sns.stripplot(x = 'simulation_type', \n",
    "                   y = 'entropy', \n",
    "                   palette=[\"C1\", \"C0\"],\n",
    "                   data=entropy_per_simulation_type,\n",
    "                   jitter=0.3,\n",
    "                   size=10,\n",
    "                   linewidth=2\n",
    "                   \n",
    "                  )\n",
    "\n",
    "ax.set_ylim(-0.8,0.6)\n",
    "\n",
    "fig.savefig(\"/\".join((parent_folder,'cumulative_plots','entropy_asynchronous_all_norm_hwhm_amplitude_scatter.pdf')))"
   ]
  },
  {
   "cell_type": "markdown",
   "metadata": {},
   "source": [
    "### Amplitude only"
   ]
  },
  {
   "cell_type": "code",
   "execution_count": 18,
   "metadata": {},
   "outputs": [
    {
     "data": {
      "text/plain": [
       "[-0.25458529411109554,\n",
       " -0.21555957527685088,\n",
       " -0.3478797191453218,\n",
       " -0.28752295851291754,\n",
       " -0.29114808672944514,\n",
       " -0.37172467691480726,\n",
       " -0.21816877801928314,\n",
       " -0.2706816578136708,\n",
       " -0.22744540157426796]"
      ]
     },
     "execution_count": 18,
     "metadata": {},
     "output_type": "execute_result"
    }
   ],
   "source": [
    "average_entropy_per_sim_hom = []\n",
    "\n",
    "for simulation in all_data_separated['homogeneous_asynchronous']:\n",
    "    temp_simulation_samples__ampl = all_data_separated['homogeneous_asynchronous'][simulation].drop_duplicates(subset=['amplitude'])\n",
    "    temp_simulation_samples__ampl = temp_simulation_samples__ampl[['amplitude']]\n",
    "    temp_simulation_samples__ampl = temp_simulation_samples__ampl.loc[temp_simulation_samples__ampl.amplitude!=1]\n",
    "\n",
    "    entropy_temp = continuous.get_h(temp_simulation_samples__ampl.to_numpy(),k=15)\n",
    "    average_entropy_per_sim_hom.append(entropy_temp)\n",
    "\n",
    "        \n",
    "average_entropy_per_sim_hom\n"
   ]
  },
  {
   "cell_type": "code",
   "execution_count": 19,
   "metadata": {},
   "outputs": [
    {
     "data": {
      "text/plain": [
       "[0.08042235658038344,\n",
       " 0.11202692253577747,\n",
       " 0.07383809597212229,\n",
       " 0.10060804508217312,\n",
       " 0.04959648518244784,\n",
       " 0.1347866270952081,\n",
       " 0.11558307701670437,\n",
       " 0.3899763704664434,\n",
       " 0.300811109036731]"
      ]
     },
     "execution_count": 19,
     "metadata": {},
     "output_type": "execute_result"
    }
   ],
   "source": [
    "average_entropy_per_sim_dis = []\n",
    "\n",
    "for simulation in all_data_separated['discrete_asynchronous']:\n",
    "    temp_simulation_samples__ampl = all_data_separated['discrete_asynchronous'][simulation].drop_duplicates(subset=['amplitude'])\n",
    "    temp_simulation_samples__ampl = temp_simulation_samples__ampl[['amplitude']]\n",
    "    temp_simulation_samples__ampl = temp_simulation_samples__ampl.loc[temp_simulation_samples__ampl.amplitude!=1]\n",
    "\n",
    "    \n",
    "    temp_entropy_all = []\n",
    "    for i in np.arange(0,100,1):\n",
    "        subsample_idx_temp = np.random.randint(len(temp_simulation_samples__ampl),size=211)\n",
    "        subsample_temp = temp_simulation_samples__ampl.to_numpy()\n",
    "        subsample_temp = subsample_temp[subsample_idx_temp]\n",
    "        entropy_temp = continuous.get_h(subsample_temp,k=15)\n",
    "        temp_entropy_all.append(entropy_temp)\n",
    "    average_entropy_per_sim_dis.append(np.mean(temp_entropy_all))\n",
    "\n",
    "        \n",
    "average_entropy_per_sim_dis\n"
   ]
  },
  {
   "cell_type": "code",
   "execution_count": 20,
   "metadata": {},
   "outputs": [
    {
     "name": "stdout",
     "output_type": "stream",
     "text": [
      "AMPLITUDE ONLY\n",
      "\n",
      "Mean hom:-0.2760795720108511 sem: 0.0184594196484946\n",
      "Mean dis:0.1508498987742212 sem: 0.038432153249081336\n",
      "Entropy diff:0.4269294707850724\n"
     ]
    },
    {
     "data": {
      "text/plain": [
       "WilcoxonResult(statistic=0.0, pvalue=0.00390625)"
      ]
     },
     "execution_count": 20,
     "metadata": {},
     "output_type": "execute_result"
    }
   ],
   "source": [
    "print('AMPLITUDE ONLY\\n')\n",
    "print(''.join(('Mean hom:',str(np.mean(average_entropy_per_sim_hom)),' sem: ' ,str(sem(average_entropy_per_sim_hom)))))\n",
    "print(''.join(('Mean dis:',str(np.mean(average_entropy_per_sim_dis)),' sem: ' ,str(sem(average_entropy_per_sim_dis)))))\n",
    "print(''.join(('Entropy diff:',str(np.mean(average_entropy_per_sim_dis-np.mean(average_entropy_per_sim_hom))))))\n",
    "\n",
    "wilcoxon(average_entropy_per_sim_hom,average_entropy_per_sim_dis)"
   ]
  },
  {
   "cell_type": "code",
   "execution_count": 21,
   "metadata": {},
   "outputs": [
    {
     "data": {
      "image/png": "[encoded data removed]",
      "text/plain": [
       "<Figure size 1440x720 with 1 Axes>"
      ]
     },
     "metadata": {
      "needs_background": "light"
     },
     "output_type": "display_data"
    }
   ],
   "source": [
    "entropy_per_simulation_type = pd.DataFrame({'entropy':np.concatenate((average_entropy_per_sim_hom,average_entropy_per_sim_dis)),\n",
    "                                            'simulation_type':np.concatenate((np.repeat('homogeneous',9),np.repeat('discrete',9)))\n",
    "                                           } )\n",
    "\n",
    "fig = plt.figure(figsize = (20,10))\n",
    "\n",
    "ax = sns.stripplot(x = 'simulation_type', \n",
    "                   y = 'entropy', \n",
    "                   palette=[\"C1\", \"C0\"],\n",
    "                   data=entropy_per_simulation_type,\n",
    "                   jitter=0.3,\n",
    "                   size=10,\n",
    "                   linewidth=2\n",
    "                   \n",
    "                  )\n",
    "\n",
    "ax.set_ylim(-0.8,0.6)\n",
    "\n",
    "fig.savefig(\"/\".join((parent_folder,'cumulative_plots','entropy_asynchronous_AMPLITUDEONLY_scatter.pdf')))"
   ]
  },
  {
   "cell_type": "markdown",
   "metadata": {},
   "source": [
    "### HWHM only"
   ]
  },
  {
   "cell_type": "code",
   "execution_count": 22,
   "metadata": {},
   "outputs": [
    {
     "data": {
      "text/plain": [
       "[-0.3185736164786799,\n",
       " -0.31301133404654546,\n",
       " -0.2823606936245704,\n",
       " -0.37887295560708045,\n",
       " -0.2864666703531782,\n",
       " -0.38115566503324994,\n",
       " -0.31477887371518953,\n",
       " -0.2671170113911061,\n",
       " -0.22894541926501732]"
      ]
     },
     "execution_count": 22,
     "metadata": {},
     "output_type": "execute_result"
    }
   ],
   "source": [
    "average_entropy_per_sim_hom = []\n",
    "\n",
    "for simulation in all_data_separated['homogeneous_asynchronous']:\n",
    "    temp_simulation_samples_hwhm = all_data_separated['homogeneous_asynchronous'][simulation].drop_duplicates(subset=['hwhm'])\n",
    "    temp_simulation_samples_hwhm = temp_simulation_samples_hwhm[['hwhm']]\n",
    "    temp_simulation_samples_hwhm = temp_simulation_samples_hwhm.loc[temp_simulation_samples_hwhm.hwhm!=1]\n",
    "\n",
    "    entropy_temp = continuous.get_h(temp_simulation_samples_hwhm.to_numpy(),k=15)\n",
    "    average_entropy_per_sim_hom.append(entropy_temp)\n",
    "\n",
    "        \n",
    "average_entropy_per_sim_hom\n"
   ]
  },
  {
   "cell_type": "code",
   "execution_count": 23,
   "metadata": {},
   "outputs": [
    {
     "data": {
      "text/plain": [
       "[0.2841675948916043,\n",
       " 0.3006102489119226,\n",
       " 0.31101950627190555,\n",
       " 0.27761461802996307,\n",
       " 0.25712064624369607,\n",
       " 0.2358631655742964,\n",
       " 0.31049174983757843,\n",
       " 0.5229506613051798,\n",
       " 0.4406427191533382]"
      ]
     },
     "execution_count": 23,
     "metadata": {},
     "output_type": "execute_result"
    }
   ],
   "source": [
    "average_entropy_per_sim_dis = []\n",
    "\n",
    "for simulation in all_data_separated['discrete_asynchronous']:\n",
    "    temp_simulation_samples_hwhm = all_data_separated['discrete_asynchronous'][simulation].drop_duplicates(subset=['hwhm'])\n",
    "    temp_simulation_samples_hwhm = temp_simulation_samples_hwhm[['hwhm']]\n",
    "    temp_simulation_samples_hwhm = temp_simulation_samples_hwhm.loc[temp_simulation_samples_hwhm.hwhm!=1]\n",
    "\n",
    "    \n",
    "    temp_entropy_all = []\n",
    "    for i in np.arange(0,100,1):\n",
    "        subsample_idx_temp = np.random.randint(len(temp_simulation_samples_hwhm),size=211)\n",
    "        subsample_temp = temp_simulation_samples_hwhm.to_numpy()\n",
    "        subsample_temp = subsample_temp[subsample_idx_temp]\n",
    "        entropy_temp = continuous.get_h(subsample_temp,k=15)\n",
    "        temp_entropy_all.append(entropy_temp)\n",
    "    average_entropy_per_sim_dis.append(np.mean(temp_entropy_all))\n",
    "\n",
    "        \n",
    "average_entropy_per_sim_dis\n",
    "\n",
    "\n"
   ]
  },
  {
   "cell_type": "code",
   "execution_count": 24,
   "metadata": {},
   "outputs": [
    {
     "name": "stdout",
     "output_type": "stream",
     "text": [
      "HWHM ONLY\n",
      "\n",
      "Mean hom:-0.3079202488349575 sem: 0.016499007417024775\n",
      "Mean dis:0.3267201011354983 sem: 0.03117992570194515\n",
      "Entropy diff:0.6346403499704558\n"
     ]
    },
    {
     "data": {
      "text/plain": [
       "WilcoxonResult(statistic=0.0, pvalue=0.00390625)"
      ]
     },
     "execution_count": 24,
     "metadata": {},
     "output_type": "execute_result"
    }
   ],
   "source": [
    "print('HWHM ONLY\\n')\n",
    "print(''.join(('Mean hom:',str(np.mean(average_entropy_per_sim_hom)),' sem: ' ,str(sem(average_entropy_per_sim_hom)))))\n",
    "print(''.join(('Mean dis:',str(np.mean(average_entropy_per_sim_dis)),' sem: ' ,str(sem(average_entropy_per_sim_dis)))))\n",
    "print(''.join(('Entropy diff:',str(np.mean(average_entropy_per_sim_dis-np.mean(average_entropy_per_sim_hom))))))\n",
    "\n",
    "\n",
    "\n",
    "wilcoxon(average_entropy_per_sim_hom,average_entropy_per_sim_dis)"
   ]
  },
  {
   "cell_type": "code",
   "execution_count": 25,
   "metadata": {},
   "outputs": [
    {
     "data": {
      "image/png": "[encoded data removed]",
      "text/plain": [
       "<Figure size 1440x720 with 1 Axes>"
      ]
     },
     "metadata": {
      "needs_background": "light"
     },
     "output_type": "display_data"
    }
   ],
   "source": [
    "entropy_per_simulation_type = pd.DataFrame({'entropy':np.concatenate((average_entropy_per_sim_hom,average_entropy_per_sim_dis)),\n",
    "                                            'simulation_type':np.concatenate((np.repeat('homogeneous',9),np.repeat('discrete',9)))\n",
    "                                           } )\n",
    "\n",
    "fig = plt.figure(figsize = (20,10))\n",
    "\n",
    "ax = sns.stripplot(x = 'simulation_type', \n",
    "                   y = 'entropy', \n",
    "                   palette=[\"C1\", \"C0\"],\n",
    "                   data=entropy_per_simulation_type,\n",
    "                   jitter=0.3,\n",
    "                   size=10,\n",
    "                   linewidth=2\n",
    "                   \n",
    "                  )\n",
    "\n",
    "# ax.set_ylim(ylims)\n",
    "\n",
    "ax.set_ylim(-0.8,0.6)\n",
    "\n",
    "fig.savefig(\"/\".join((parent_folder,'cumulative_plots','entropy_asynchronous_HWHMONLY_scatter.pdf')))"
   ]
  }
 ],
 "metadata": {
  "kernelspec": {
   "display_name": "Python 3",
   "language": "python",
   "name": "python3"
  },
  "language_info": {
   "codemirror_mode": {
    "name": "ipython",
    "version": 3
   },
   "file_extension": ".py",
   "mimetype": "text/x-python",
   "name": "python",
   "nbconvert_exporter": "python",
   "pygments_lexer": "ipython3",
   "version": "3.8.5"
  }
 },
 "nbformat": 4,
 "nbformat_minor": 4
}
